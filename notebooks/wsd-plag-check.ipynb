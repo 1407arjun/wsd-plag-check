{
  "cells": [
    {
      "cell_type": "code",
      "execution_count": 348,
      "id": "7e21d918",
      "metadata": {
        "colab": {
          "base_uri": "https://localhost:8080/"
        },
        "execution": {
          "iopub.execute_input": "2022-02-27T06:30:27.183408Z",
          "iopub.status.busy": "2022-02-27T06:30:27.182939Z",
          "iopub.status.idle": "2022-02-27T06:30:28.348855Z",
          "shell.execute_reply": "2022-02-27T06:30:28.348426Z",
          "shell.execute_reply.started": "2022-02-27T06:06:55.448265Z"
        },
        "id": "7e21d918",
        "outputId": "1efe9987-2470-4578-ec3c-7d8f9bdc9965",
        "papermill": {
          "duration": 1.183149,
          "end_time": "2022-02-27T06:30:28.348969",
          "exception": false,
          "start_time": "2022-02-27T06:30:27.165820",
          "status": "completed"
        },
        "tags": []
      },
      "outputs": [
        {
          "name": "stderr",
          "output_type": "stream",
          "text": [
            "[nltk_data] Downloading package punkt to /root/nltk_data...\n",
            "[nltk_data]   Package punkt is already up-to-date!\n"
          ]
        },
        {
          "data": {
            "text/plain": [
              "True"
            ]
          },
          "execution_count": 348,
          "metadata": {},
          "output_type": "execute_result"
        }
      ],
      "source": [
        "import re, nltk\n",
        "from nltk.lm import WittenBellInterpolated\n",
        "import numpy as np\n",
        "import plotly.graph_objects as go\n",
        "from scipy.ndimage import gaussian_filter\n",
        "\n",
        "nltk.download('punkt')"
      ]
    },
    {
      "cell_type": "code",
      "execution_count": 349,
      "id": "4b2b39e9",
      "metadata": {
        "execution": {
          "iopub.execute_input": "2022-02-27T06:30:28.380034Z",
          "iopub.status.busy": "2022-02-27T06:30:28.375210Z",
          "iopub.status.idle": "2022-02-27T06:30:28.382869Z",
          "shell.execute_reply": "2022-02-27T06:30:28.382399Z",
          "shell.execute_reply.started": "2022-02-27T06:24:15.629148Z"
        },
        "id": "4b2b39e9",
        "papermill": {
          "duration": 0.022205,
          "end_time": "2022-02-27T06:30:28.382971",
          "exception": false,
          "start_time": "2022-02-27T06:30:28.360766",
          "status": "completed"
        },
        "tags": []
      },
      "outputs": [],
      "source": [
        "f1 = open('train.txt', 'w+')\n",
        "f2 = open('test.txt', 'w+')\n",
        "\n",
        "f1.write(\"\"\"\n",
        "Advancements in technology have always had major impacts in medicine. The smartphone is one of the fastest growing sectors in the technology industry, and its impact in medicine has already been significant. Faster processors, improved memory, and smaller batteries in concert with highly efficient operating systems capable of advanced functions have paved the way for applications (commonly referred to as apps) that are affecting our personal and work environments. Like other industries, the field of medicine experienced the resounding effects of the smartphone. In fact, it may be among those industries where the impact has been most profound.\n",
        "\"\"\")\n",
        "\n",
        "f2.write(\"\"\"\n",
        "Advancements in technology have always had major impacts in medicine. The smart phone is one of the fastest growing sectors in the technology industry, and its impact in medicine has already been significant. Telemedicine is literally medicine from a distance and is synonymous with a telecommunications network for the transmission of medical information. Mobile technology has become a part of our everyday life. Mobile services are used in a wide variety of scientific area including healthcare.\n",
        "\"\"\")\n",
        "\n",
        "f1.close()\n",
        "f2.close()"
      ]
    },
    {
      "cell_type": "code",
      "execution_count": 350,
      "id": "FHsFEI276iE5",
      "metadata": {
        "id": "FHsFEI276iE5"
      },
      "outputs": [],
      "source": [
        "class TreebankWordTokenizer:\n",
        "  \"\"\"\n",
        "  The Treebank tokenizer uses regular expressions to tokenize text as in Penn Treebank.\n",
        "  This is the method that is invoked by ``tokenize()``.\n",
        "\n",
        "  This tokenizer performs the following steps:\n",
        "\n",
        "  - split standard contractions, e.g. ``don't`` -> ``do n't`` and ``they'll`` -> ``they 'll``\n",
        "  - treat most punctuation characters as separate tokens\n",
        "  - split off commas and single quotes, when followed by whitespace\n",
        "  - separate periods that appear at the end of line\n",
        "\n",
        "      >>> from plagiarismdetector.tokenizer import TreebankWordTokenizer\n",
        "      >>> s = \"They'll save and invest more.\"\n",
        "      >>> TreebankWordTokenizer().tokenize(s)\n",
        "      ['They', \"'ll\", 'save', 'and', 'invest', 'more', '.']\n",
        "      >>> s = \"hi, my name can't hello,\"\n",
        "      >>> TreebankWordTokenizer().tokenize(s)\n",
        "      ['hi', ',', 'my', 'name', 'ca', \"n't\", 'hello', ',']\n",
        "  \"\"\"\n",
        "\n",
        "  def __init__(self):\n",
        "      pass\n",
        "\n",
        "  STARTING_QUOTES = [\n",
        "      (re.compile(r'^\\\"'), r'``'),\n",
        "      (re.compile(r'(``)'), r' \\1 '),\n",
        "      (re.compile(r'([ (\\[{<])\"'), r'\\1 `` '),\n",
        "  ]\n",
        "\n",
        "  PUNCTUATION = [\n",
        "      (re.compile(r'([:,])([^\\d])'), r' \\1 \\2'),\n",
        "      (re.compile(r'([:,])$'), r' \\1 '),\n",
        "      (re.compile(r'\\.\\.\\.'), r' ... '),\n",
        "      (re.compile(r'[;@#$%&]'), r' \\g<0> '),\n",
        "      (re.compile(r'([^\\.])(\\.)([\\]\\)}>\"\\']*)\\s*$'), r'\\1 \\2\\3 '),  # Handles the final period.\n",
        "      (re.compile(r'[?!]'), r' \\g<0> '),\n",
        "      (re.compile(r\"([^'])' \"), r\"\\1 ' \"),\n",
        "  ]\n",
        "\n",
        "  PARENS_BRACKETS = (re.compile(r'[\\]\\[\\(\\)\\{\\}\\<\\>]'), r' \\g<0> ')\n",
        "\n",
        "  DOUBLE_DASHES = (re.compile(r'--'), r' -- ')\n",
        "\n",
        "  ENDING_QUOTES = [\n",
        "      (re.compile(r'\"'), \" '' \"),\n",
        "      (re.compile(r'(\\S)(\\'\\')'), r'\\1 \\2 '),\n",
        "      (re.compile(r\"([^' ])('[sS]|'[mM]|'[dD]|') \"), r\"\\1 \\2 \"),\n",
        "      (re.compile(r\"([^' ])('ll|'LL|'re|'RE|'ve|'VE|n't|N'T) \"), r\"\\1 \\2 \"),\n",
        "  ]\n",
        "\n",
        "  # Adapted from Robert MacIntyre's tokenizer.\n",
        "  _contractions = [r\"(?i)\\b(can)(?#X)(not)\\b\",\n",
        "                    r\"(?i)\\b(d)(?#X)('ye)\\b\",\n",
        "                    r\"(?i)\\b(gim)(?#X)(me)\\b\",\n",
        "                    r\"(?i)\\b(gon)(?#X)(na)\\b\",\n",
        "                    r\"(?i)\\b(got)(?#X)(ta)\\b\",\n",
        "                    r\"(?i)\\b(lem)(?#X)(me)\\b\",\n",
        "                    r\"(?i)\\b(mor)(?#X)('n)\\b\",\n",
        "                    r\"(?i)\\b(wan)(?#X)(na)\\s\",\n",
        "                    r\"(?i) ('t)(?#X)(is)\\b\",\n",
        "                    r\"(?i) ('t)(?#X)(was)\\b\"]\n",
        "  CONTRACTIONS = list(map(re.compile, _contractions))\n",
        "\n",
        "  def tokenize(self, text):\n",
        "    for regexp, substitution in self.STARTING_QUOTES:\n",
        "      text = regexp.sub(substitution, text)\n",
        "      text = re.sub(r\"\\[.*\\]|\\{.*\\}\", \"\", text)\n",
        "\n",
        "    for regexp, substitution in self.PUNCTUATION:\n",
        "      text = regexp.sub(substitution, text)\n",
        "      text = re.sub(r'[^\\w\\s]', \"\", text)\n",
        "\n",
        "\n",
        "    # Handles parentheses.\n",
        "    regexp, substitution = self.PARENS_BRACKETS\n",
        "    text = regexp.sub(substitution, text)\n",
        "\n",
        "    # Handles double dash.\n",
        "    regexp, substitution = self.DOUBLE_DASHES\n",
        "    text = regexp.sub(substitution, text)\n",
        "\n",
        "    for regexp, substitution in self.ENDING_QUOTES:\n",
        "      text = regexp.sub(substitution, text)\n",
        "\n",
        "    return text.split()"
      ]
    },
    {
      "cell_type": "code",
      "execution_count": 351,
      "id": "oora18O96suI",
      "metadata": {
        "id": "oora18O96suI"
      },
      "outputs": [],
      "source": [
        "tokenizer = TreebankWordTokenizer()"
      ]
    },
    {
      "cell_type": "code",
      "execution_count": 352,
      "id": "30965158",
      "metadata": {
        "execution": {
          "iopub.execute_input": "2022-02-27T06:30:28.411539Z",
          "iopub.status.busy": "2022-02-27T06:30:28.410950Z",
          "iopub.status.idle": "2022-02-27T06:30:28.412690Z",
          "shell.execute_reply": "2022-02-27T06:30:28.413069Z",
          "shell.execute_reply.started": "2022-02-27T06:24:27.017705Z"
        },
        "id": "30965158",
        "papermill": {
          "duration": 0.018027,
          "end_time": "2022-02-27T06:30:28.413217",
          "exception": false,
          "start_time": "2022-02-27T06:30:28.395190",
          "status": "completed"
        },
        "tags": []
      },
      "outputs": [],
      "source": [
        "# Training data file\n",
        "train_data_file = \"train.txt\"\n",
        "\n",
        "# read training data\n",
        "with open(train_data_file) as f:\n",
        "    train_text = f.read().lower()\n",
        "\n",
        "# apply preprocessing (remove text inside square and curly brackets and rem punc)\n",
        "# train_text = re.sub(r\"\\[.*\\]|\\{.*\\}\", \"\", train_text)\n",
        "# train_text = re.sub(r'[^\\w\\s]', \"\", train_text)"
      ]
    },
    {
      "cell_type": "code",
      "execution_count": 353,
      "id": "mkbirIjtAFvM",
      "metadata": {
        "id": "mkbirIjtAFvM"
      },
      "outputs": [],
      "source": [
        "def pad_sequence(sequence, n, pad_left=False, pad_right=False):\n",
        "  if pad_left:\n",
        "    sequence = ['']*n + sequence\n",
        "  if pad_right:\n",
        "    sequence = sequence + ['']*n\n",
        "  return sequence"
      ]
    },
    {
      "cell_type": "code",
      "execution_count": 354,
      "id": "xFmPC44BQ5Sb",
      "metadata": {
        "id": "xFmPC44BQ5Sb"
      },
      "outputs": [],
      "source": [
        "from itertools import islice\n",
        "\n",
        "def generate_ngrams(sequence, min_length=1, max_length=-1):\n",
        "  sequence = iter(sequence)\n",
        "  # Get max_len for padding.\n",
        "  if max_length == -1:\n",
        "    try:\n",
        "      max_length = len(sequence)\n",
        "    except TypeError:\n",
        "      sequence = list(sequence)\n",
        "      max_length = len(sequence)\n",
        "\n",
        "  # Pad if indicated using max_len.\n",
        "  sequence = pad_sequence(sequence, max_length)\n",
        "\n",
        "  # Sliding window to store grams.\n",
        "  history = list(islice(sequence, max_length))\n",
        "\n",
        "  # Yield ngrams from sequence.\n",
        "  while history:\n",
        "    for ngram_len in range(min_length, len(history) + 1):\n",
        "      yield tuple(history[:ngram_len])\n",
        "\n",
        "    # Append element to history if sequence has more items.\n",
        "    try:\n",
        "      history.append(next(sequence))\n",
        "    except StopIteration:\n",
        "      pass\n",
        "\n",
        "    del history[0]"
      ]
    },
    {
      "cell_type": "code",
      "execution_count": 355,
      "id": "HvPIYYc7-rtk",
      "metadata": {
        "colab": {
          "base_uri": "https://localhost:8080/"
        },
        "id": "HvPIYYc7-rtk",
        "outputId": "794e5ad8-6d45-46de-ebf7-9a369022028a"
      },
      "outputs": [
        {
          "name": "stderr",
          "output_type": "stream",
          "text": [
            "[nltk_data] Downloading package wordnet to /root/nltk_data...\n",
            "[nltk_data]   Package wordnet is already up-to-date!\n"
          ]
        }
      ],
      "source": [
        "from nltk.corpus import wordnet\n",
        "\n",
        "nltk.download('wordnet')\n",
        "\n",
        "def load_synsets(context ,word):\n",
        "  synsets = []\n",
        "  if (word):\n",
        "    # Lesk implementation\n",
        "    context = set(context)\n",
        "    if synsets is None:\n",
        "        synsets = wordnet.synsets(word)\n",
        "\n",
        "    if not synsets:\n",
        "        return None\n",
        "\n",
        "    _, wsd = max(\n",
        "        (len(context.intersection(ss.definition().split())), ss) for ss in synsets\n",
        "    )\n",
        "\n",
        "    if (wsd):\n",
        "      # print(wsd.name(), wsd.definition())\n",
        "      synsets += [syn.name() for syn in wsd.lemmas()]\n",
        "\n",
        "  return synsets"
      ]
    },
    {
      "cell_type": "code",
      "execution_count": 356,
      "id": "a79bfcd1",
      "metadata": {
        "colab": {
          "base_uri": "https://localhost:8080/"
        },
        "execution": {
          "iopub.execute_input": "2022-02-27T06:30:28.440441Z",
          "iopub.status.busy": "2022-02-27T06:30:28.439925Z",
          "iopub.status.idle": "2022-02-27T06:30:28.477632Z",
          "shell.execute_reply": "2022-02-27T06:30:28.478146Z",
          "shell.execute_reply.started": "2022-02-27T06:24:31.989863Z"
        },
        "id": "a79bfcd1",
        "outputId": "ea208853-749c-46d8-d36b-9e5678496e11",
        "papermill": {
          "duration": 0.052715,
          "end_time": "2022-02-27T06:30:28.478358",
          "exception": false,
          "start_time": "2022-02-27T06:30:28.425643",
          "status": "completed"
        },
        "tags": []
      },
      "outputs": [
        {
          "name": "stdout",
          "output_type": "stream",
          "text": [
            "['', '', '', '', 'advancements', 'in', 'technology', 'have', 'always', 'had', 'major', 'impacts', 'in', 'medicine', 'the', 'smartphone', 'is', 'one', 'of', 'the', 'fastest', 'growing', 'sectors', 'in', 'the', 'technology', 'industry', 'and', 'its', 'impact', 'in', 'medicine', 'has', 'already', 'been', 'significant', 'faster', 'processors', 'improved', 'memory', 'and', 'smaller', 'batteries', 'in', 'concert', 'with', 'highly', 'efficient', 'operating', 'systems', 'capable', 'of', 'advanced', 'functions', 'have', 'paved', 'the', 'way', 'for', 'applications', 'commonly', 'referred', 'to', 'as', 'apps', 'that', 'are', 'affecting', 'our', 'personal', 'and', 'work', 'environments', 'like', 'other', 'industries', 'the', 'field', 'of', 'medicine', 'experienced', 'the', 'resounding', 'effects', 'of', 'the', 'smartphone', 'in', 'fact', 'it', 'may', 'be', 'among', 'those', 'industries', 'where', 'the', 'impact', 'has', 'been', 'most', 'profound']\n",
            "Number of ngrams: 402\n",
            "<Vocabulary with cutoff=1 unk_label='<UNK>' and 74 items>\n"
          ]
        }
      ],
      "source": [
        "# set ngram number\n",
        "n = 4\n",
        "\n",
        "# pad the text and tokenize\n",
        "training_data = pad_sequence(tokenizer.tokenize(train_text), n, pad_left=True)\n",
        "\n",
        "print(list(training_data))\n",
        "\n",
        "# generate ngrams\n",
        "ngrams = list(generate_ngrams(training_data, max_length=n))\n",
        "print(\"Number of ngrams:\", len(ngrams))\n",
        "\n",
        "# build ngram language models\n",
        "model = WittenBellInterpolated(n)\n",
        "\n",
        "synset_data = []\n",
        "for i, item in enumerate(training_data[n-1:]):\n",
        "  synsets = load_synsets(training_data[i:i+n-1], item)\n",
        "  synset_data += ([item] + synsets if synsets else [item])\n",
        "\n",
        "model.fit([ngrams], vocabulary_text=synset_data)\n",
        "print(model.vocab)"
      ]
    },
    {
      "cell_type": "code",
      "execution_count": 357,
      "id": "3c6ef8de",
      "metadata": {
        "colab": {
          "base_uri": "https://localhost:8080/"
        },
        "execution": {
          "iopub.execute_input": "2022-02-27T06:30:28.518926Z",
          "iopub.status.busy": "2022-02-27T06:30:28.518272Z",
          "iopub.status.idle": "2022-02-27T06:30:28.524051Z",
          "shell.execute_reply": "2022-02-27T06:30:28.524707Z",
          "shell.execute_reply.started": "2022-02-27T06:25:57.259411Z"
        },
        "id": "3c6ef8de",
        "outputId": "11f88a55-c6c6-4f0a-b2b4-7dcd8a9a0179",
        "papermill": {
          "duration": 0.027833,
          "end_time": "2022-02-27T06:30:28.524864",
          "exception": false,
          "start_time": "2022-02-27T06:30:28.497031",
          "status": "completed"
        },
        "tags": []
      },
      "outputs": [
        {
          "name": "stdout",
          "output_type": "stream",
          "text": [
            "Length of test data: 80\n"
          ]
        }
      ],
      "source": [
        "# testing data file\n",
        "test_data_file = \"test.txt\"\n",
        "\n",
        "# Read testing data\n",
        "with open(test_data_file) as f:\n",
        "    test_text = f.read().lower()\n",
        "\n",
        "# Tokenize and pad the text\n",
        "testing_data = pad_sequence(tokenizer.tokenize(test_text), n, pad_left=True)\n",
        "\n",
        "print(\"Length of test data:\", len(testing_data))\n"
      ]
    },
    {
      "cell_type": "code",
      "execution_count": 358,
      "id": "e44728f4",
      "metadata": {
        "colab": {
          "base_uri": "https://localhost:8080/"
        },
        "execution": {
          "iopub.execute_input": "2022-02-27T06:30:28.566067Z",
          "iopub.status.busy": "2022-02-27T06:30:28.565425Z",
          "iopub.status.idle": "2022-02-27T06:30:28.593708Z",
          "shell.execute_reply": "2022-02-27T06:30:28.593293Z",
          "shell.execute_reply.started": "2022-02-27T06:26:13.066132Z"
        },
        "id": "e44728f4",
        "outputId": "cefdd6a1-0395-4b0a-e740-a05d2de622a3",
        "papermill": {
          "duration": 0.049632,
          "end_time": "2022-02-27T06:30:28.593815",
          "exception": false,
          "start_time": "2022-02-27T06:30:28.544183",
          "status": "completed"
        },
        "tags": []
      },
      "outputs": [
        {
          "name": "stdout",
          "output_type": "stream",
          "text": [
            "[0.5526143790849674, 0.38398692810457513, 0.8823529411764706, 0.7749554367201426, 0.8149509803921569, 0.8137254901960784, 0.8762254901960784, 0.8762254901960784, 0.8762254901960784, 0.8823529411764706, 0.7987967914438503, 0.6764705882352942, 0.0, 0.0, 0.00980392156862745, 0.5049019607843137, 0.7598039215686274, 0.8298319327731092, 0.6428104575163398, 0.8762254901960784, 0.8762254901960784, 0.8823529411764706, 0.7816399286987522, 0.768954248366013, 0.8137254901960784, 0.8786764705882353, 0.7928921568627452, 0.8774509803921569, 0.8198529411764706, 0.7987967914438503, 0.6691176470588236, 0.8137254901960784, 0.8774509803921569, 0.8137254901960784, 0.0, 0.00980392156862745, 0.0, 0.029411764705882353, 0.0, 0.0, 0.0, 0.029411764705882353, 0.004901960784313725, 0.0, 0.00980392156862745, 0.0, 0.0, 0.0, 0.00980392156862745, 0.0392156862745098, 0.0, 0.0392156862745098, 0.0, 0.0, 0.0, 0.0196078431372549, 0.00980392156862745, 0.0, 0.0, 0.0, 0.0392156862745098, 0.004201680672268907, 0.0, 0.0, 0.0, 0.0, 0.00980392156862745, 0.0, 0.058823529411764705, 0.0, 0.0, 0.0, 0.0392156862745098, 0.0, 0.0, 0.0, 0.0]\n",
            "Width, Height: 8 , 10\n"
          ]
        }
      ],
      "source": [
        "# assign scores\n",
        "scores = []\n",
        "for i, item in enumerate(testing_data[n-1:]):\n",
        "    s = model.score(item, testing_data[i:i+n-1])\n",
        "    scores.append(s)\n",
        "\n",
        "scores_np = np.array(scores)\n",
        "\n",
        "print(scores)\n",
        "\n",
        "# set width and height\n",
        "width = 8\n",
        "height = np.ceil(len(testing_data)/width).astype(\"int32\")\n",
        "print(\"Width, Height:\", width, \",\", height)\n",
        "\n",
        "# copy scores to rectangular blank array\n",
        "a = np.zeros(width*height)\n",
        "a[:len(scores_np)] = scores_np\n",
        "diff = len(a) - len(scores_np)\n",
        "\n",
        "# apply gaussian smoothing for aesthetics\n",
        "a = gaussian_filter(a, sigma=1.0)\n",
        "\n",
        "# reshape to fit rectangle\n",
        "a = a.reshape(-1, width)\n",
        "\n",
        "# format labels\n",
        "labels = [\" \".join(testing_data[i:i+width]) for i in range(n-1, len(testing_data), width)]\n",
        "labels_individual = [x.split() for x in labels]\n",
        "labels_individual[-1] += [\"\"]*diff\n",
        "labels = [f\"{x:60.60}\" for x in labels]"
      ]
    },
    {
      "cell_type": "code",
      "execution_count": 359,
      "id": "e2d1c1c0",
      "metadata": {
        "colab": {
          "base_uri": "https://localhost:8080/",
          "height": 297
        },
        "execution": {
          "iopub.execute_input": "2022-02-27T06:30:28.623672Z",
          "iopub.status.busy": "2022-02-27T06:30:28.623113Z",
          "iopub.status.idle": "2022-02-27T06:30:28.765595Z",
          "shell.execute_reply": "2022-02-27T06:30:28.765125Z",
          "shell.execute_reply.started": "2022-02-27T06:26:27.738590Z"
        },
        "id": "e2d1c1c0",
        "outputId": "1d5c65c6-6bee-4ffd-d605-8cdaff72d902",
        "papermill": {
          "duration": 0.158575,
          "end_time": "2022-02-27T06:30:28.765696",
          "exception": false,
          "start_time": "2022-02-27T06:30:28.607121",
          "status": "completed"
        },
        "tags": []
      },
      "outputs": [
        {
          "data": {
            "text/html": [
              "<html>\n",
              "<head><meta charset=\"utf-8\" /></head>\n",
              "<body>\n",
              "    <div>            <script src=\"https://cdnjs.cloudflare.com/ajax/libs/mathjax/2.7.5/MathJax.js?config=TeX-AMS-MML_SVG\"></script><script type=\"text/javascript\">if (window.MathJax && window.MathJax.Hub && window.MathJax.Hub.Config) {window.MathJax.Hub.Config({SVG: {font: \"STIX-Web\"}});}</script>                <script type=\"text/javascript\">window.PlotlyConfig = {MathJaxConfig: 'local'};</script>\n",
              "        <script charset=\"utf-8\" src=\"https://cdn.plot.ly/plotly-2.24.1.min.js\"></script>                <div id=\"4bbb3a07-91fc-4fa7-9c0a-ede2c9e406ce\" class=\"plotly-graph-div\" style=\"height:280px; width:1000px;\"></div>            <script type=\"text/javascript\">                                    window.PLOTLYENV=window.PLOTLYENV || {};                                    if (document.getElementById(\"4bbb3a07-91fc-4fa7-9c0a-ede2c9e406ce\")) {                    Plotly.newPlot(                        \"4bbb3a07-91fc-4fa7-9c0a-ede2c9e406ce\",                        [{\"colorscale\":[[0.0,\"rgb(255, 198, 196)\"],[0.16666666666666666,\"rgb(244, 163, 168)\"],[0.3333333333333333,\"rgb(227, 129, 145)\"],[0.5,\"rgb(204, 96, 125)\"],[0.6666666666666666,\"rgb(173, 70, 108)\"],[0.8333333333333334,\"rgb(139, 48, 88)\"],[1.0,\"rgb(103, 32, 68)\"]],\"customdata\":[[\"advancements\",\"in\",\"technology\",\"have\",\"always\",\"had\",\"major\"],[\"impacts\",\"in\",\"medicine\",\"the\",\"smart\",\"phone\",\"is\",\"one\"],[\"of\",\"the\",\"fastest\",\"growing\",\"sectors\",\"in\",\"the\",\"technology\"],[\"industry\",\"and\",\"its\",\"impact\",\"in\",\"medicine\",\"has\",\"already\"],[\"been\",\"significant\",\"telemedicine\",\"is\",\"literally\",\"medicine\",\"from\",\"a\"],[\"distance\",\"and\",\"is\",\"synonymous\",\"with\",\"a\",\"telecommunications\",\"network\"],[\"for\",\"the\",\"transmission\",\"of\",\"medical\",\"information\",\"mobile\",\"technology\"],[\"has\",\"become\",\"a\",\"part\",\"of\",\"our\",\"everyday\",\"life\"],[\"mobile\",\"services\",\"are\",\"used\",\"in\",\"a\",\"wide\",\"variety\"],[\"of\",\"scientific\",\"area\",\"including\",\"healthcare\",\"\",\"\",\"\"]],\"dx\":1,\"hovertemplate\":\"%{customdata} \\u003cbr\\u003e\\u003cb\\u003eScore:%{z:.3f}\\u003cextra\\u003e\\u003c\\u002fextra\\u003e\",\"x0\":0,\"y\":[\" advancements in technology have always had major           \",\"impacts in medicine the smart phone is one                  \",\"of the fastest growing sectors in the technology            \",\"industry and its impact in medicine has already             \",\"been significant telemedicine is literally medicine from a  \",\"distance and is synonymous with a telecommunications network\",\"for the transmission of medical information mobile technolog\",\"has become a part of our everyday life                      \",\"mobile services are used in a wide variety                  \",\"of scientific area including healthcare                     \"],\"z\":[[0.5230215267144468,0.5776276994614163,0.712500382820159,0.7910519810419301,0.8102587337952583,0.8309592567422435,0.8573627938371211,0.872526872934545],[0.8722399519824017,0.8451405298722566,0.7471758363049605,0.5149103647702195,0.21371090290345912,0.07329255035259467,0.17397439372346965,0.4355106692143276],[0.6653222643148194,0.7490621330284873,0.7638473286856154,0.816572499778177,0.8592940701822676,0.8486739610698771,0.8106113151607245,0.7955141097987226],[0.8163470142900836,0.8355116928898092,0.836592798650605,0.8376438403974042,0.8193414534574631,0.7779008782328024,0.7563649888133079,0.7896700293923113],[0.7836697488072333,0.5844881102735591,0.250471386066276,0.053430784160514694,0.013212824882274678,0.012375793815743778,0.007291261752570927,0.0031989855486162433],[0.007513130550635911,0.012967151807749697,0.009601737245770152,0.00514637794850014,0.004307533809325083,0.0024466279652838314,0.0012331040846455025,0.004538266073116751],[0.013575397343992553,0.020134410125135387,0.01950747737915206,0.017808214803690877,0.009752398172508038,0.003224646555320752,0.00544766142366697,0.010199938302620148],[0.00866099689380155,0.003605279440785415,0.002752144407934434,0.009762003530436637,0.016662840746936754,0.01116530936478027,0.0031352979259409363,0.00044410159518656515],[0.0005610666954174462,0.0026335291309682947,0.007087159155689453,0.016605883525452992,0.02400183594172304,0.01445086256901726,0.005294559851290773,0.009749774042613632],[0.015652714325216463,0.009489076300258852,0.0021172991145374277,0.0001737984949031869,5.248259788813402e-06,0.0,0.0,0.0]],\"zmax\":1,\"zmin\":0,\"type\":\"heatmap\"}],                        {\"template\":{\"data\":{\"histogram2dcontour\":[{\"type\":\"histogram2dcontour\",\"colorbar\":{\"outlinewidth\":0,\"ticks\":\"\"},\"colorscale\":[[0.0,\"#0d0887\"],[0.1111111111111111,\"#46039f\"],[0.2222222222222222,\"#7201a8\"],[0.3333333333333333,\"#9c179e\"],[0.4444444444444444,\"#bd3786\"],[0.5555555555555556,\"#d8576b\"],[0.6666666666666666,\"#ed7953\"],[0.7777777777777778,\"#fb9f3a\"],[0.8888888888888888,\"#fdca26\"],[1.0,\"#f0f921\"]]}],\"choropleth\":[{\"type\":\"choropleth\",\"colorbar\":{\"outlinewidth\":0,\"ticks\":\"\"}}],\"histogram2d\":[{\"type\":\"histogram2d\",\"colorbar\":{\"outlinewidth\":0,\"ticks\":\"\"},\"colorscale\":[[0.0,\"#0d0887\"],[0.1111111111111111,\"#46039f\"],[0.2222222222222222,\"#7201a8\"],[0.3333333333333333,\"#9c179e\"],[0.4444444444444444,\"#bd3786\"],[0.5555555555555556,\"#d8576b\"],[0.6666666666666666,\"#ed7953\"],[0.7777777777777778,\"#fb9f3a\"],[0.8888888888888888,\"#fdca26\"],[1.0,\"#f0f921\"]]}],\"heatmap\":[{\"type\":\"heatmap\",\"colorbar\":{\"outlinewidth\":0,\"ticks\":\"\"},\"colorscale\":[[0.0,\"#0d0887\"],[0.1111111111111111,\"#46039f\"],[0.2222222222222222,\"#7201a8\"],[0.3333333333333333,\"#9c179e\"],[0.4444444444444444,\"#bd3786\"],[0.5555555555555556,\"#d8576b\"],[0.6666666666666666,\"#ed7953\"],[0.7777777777777778,\"#fb9f3a\"],[0.8888888888888888,\"#fdca26\"],[1.0,\"#f0f921\"]]}],\"heatmapgl\":[{\"type\":\"heatmapgl\",\"colorbar\":{\"outlinewidth\":0,\"ticks\":\"\"},\"colorscale\":[[0.0,\"#0d0887\"],[0.1111111111111111,\"#46039f\"],[0.2222222222222222,\"#7201a8\"],[0.3333333333333333,\"#9c179e\"],[0.4444444444444444,\"#bd3786\"],[0.5555555555555556,\"#d8576b\"],[0.6666666666666666,\"#ed7953\"],[0.7777777777777778,\"#fb9f3a\"],[0.8888888888888888,\"#fdca26\"],[1.0,\"#f0f921\"]]}],\"contourcarpet\":[{\"type\":\"contourcarpet\",\"colorbar\":{\"outlinewidth\":0,\"ticks\":\"\"}}],\"contour\":[{\"type\":\"contour\",\"colorbar\":{\"outlinewidth\":0,\"ticks\":\"\"},\"colorscale\":[[0.0,\"#0d0887\"],[0.1111111111111111,\"#46039f\"],[0.2222222222222222,\"#7201a8\"],[0.3333333333333333,\"#9c179e\"],[0.4444444444444444,\"#bd3786\"],[0.5555555555555556,\"#d8576b\"],[0.6666666666666666,\"#ed7953\"],[0.7777777777777778,\"#fb9f3a\"],[0.8888888888888888,\"#fdca26\"],[1.0,\"#f0f921\"]]}],\"surface\":[{\"type\":\"surface\",\"colorbar\":{\"outlinewidth\":0,\"ticks\":\"\"},\"colorscale\":[[0.0,\"#0d0887\"],[0.1111111111111111,\"#46039f\"],[0.2222222222222222,\"#7201a8\"],[0.3333333333333333,\"#9c179e\"],[0.4444444444444444,\"#bd3786\"],[0.5555555555555556,\"#d8576b\"],[0.6666666666666666,\"#ed7953\"],[0.7777777777777778,\"#fb9f3a\"],[0.8888888888888888,\"#fdca26\"],[1.0,\"#f0f921\"]]}],\"mesh3d\":[{\"type\":\"mesh3d\",\"colorbar\":{\"outlinewidth\":0,\"ticks\":\"\"}}],\"scatter\":[{\"fillpattern\":{\"fillmode\":\"overlay\",\"size\":10,\"solidity\":0.2},\"type\":\"scatter\"}],\"parcoords\":[{\"type\":\"parcoords\",\"line\":{\"colorbar\":{\"outlinewidth\":0,\"ticks\":\"\"}}}],\"scatterpolargl\":[{\"type\":\"scatterpolargl\",\"marker\":{\"colorbar\":{\"outlinewidth\":0,\"ticks\":\"\"}}}],\"bar\":[{\"error_x\":{\"color\":\"#2a3f5f\"},\"error_y\":{\"color\":\"#2a3f5f\"},\"marker\":{\"line\":{\"color\":\"#E5ECF6\",\"width\":0.5},\"pattern\":{\"fillmode\":\"overlay\",\"size\":10,\"solidity\":0.2}},\"type\":\"bar\"}],\"scattergeo\":[{\"type\":\"scattergeo\",\"marker\":{\"colorbar\":{\"outlinewidth\":0,\"ticks\":\"\"}}}],\"scatterpolar\":[{\"type\":\"scatterpolar\",\"marker\":{\"colorbar\":{\"outlinewidth\":0,\"ticks\":\"\"}}}],\"histogram\":[{\"marker\":{\"pattern\":{\"fillmode\":\"overlay\",\"size\":10,\"solidity\":0.2}},\"type\":\"histogram\"}],\"scattergl\":[{\"type\":\"scattergl\",\"marker\":{\"colorbar\":{\"outlinewidth\":0,\"ticks\":\"\"}}}],\"scatter3d\":[{\"type\":\"scatter3d\",\"line\":{\"colorbar\":{\"outlinewidth\":0,\"ticks\":\"\"}},\"marker\":{\"colorbar\":{\"outlinewidth\":0,\"ticks\":\"\"}}}],\"scattermapbox\":[{\"type\":\"scattermapbox\",\"marker\":{\"colorbar\":{\"outlinewidth\":0,\"ticks\":\"\"}}}],\"scatterternary\":[{\"type\":\"scatterternary\",\"marker\":{\"colorbar\":{\"outlinewidth\":0,\"ticks\":\"\"}}}],\"scattercarpet\":[{\"type\":\"scattercarpet\",\"marker\":{\"colorbar\":{\"outlinewidth\":0,\"ticks\":\"\"}}}],\"carpet\":[{\"aaxis\":{\"endlinecolor\":\"#2a3f5f\",\"gridcolor\":\"white\",\"linecolor\":\"white\",\"minorgridcolor\":\"white\",\"startlinecolor\":\"#2a3f5f\"},\"baxis\":{\"endlinecolor\":\"#2a3f5f\",\"gridcolor\":\"white\",\"linecolor\":\"white\",\"minorgridcolor\":\"white\",\"startlinecolor\":\"#2a3f5f\"},\"type\":\"carpet\"}],\"table\":[{\"cells\":{\"fill\":{\"color\":\"#EBF0F8\"},\"line\":{\"color\":\"white\"}},\"header\":{\"fill\":{\"color\":\"#C8D4E3\"},\"line\":{\"color\":\"white\"}},\"type\":\"table\"}],\"barpolar\":[{\"marker\":{\"line\":{\"color\":\"#E5ECF6\",\"width\":0.5},\"pattern\":{\"fillmode\":\"overlay\",\"size\":10,\"solidity\":0.2}},\"type\":\"barpolar\"}],\"pie\":[{\"automargin\":true,\"type\":\"pie\"}]},\"layout\":{\"autotypenumbers\":\"strict\",\"colorway\":[\"#636efa\",\"#EF553B\",\"#00cc96\",\"#ab63fa\",\"#FFA15A\",\"#19d3f3\",\"#FF6692\",\"#B6E880\",\"#FF97FF\",\"#FECB52\"],\"font\":{\"color\":\"#2a3f5f\"},\"hovermode\":\"closest\",\"hoverlabel\":{\"align\":\"left\"},\"paper_bgcolor\":\"white\",\"plot_bgcolor\":\"#E5ECF6\",\"polar\":{\"bgcolor\":\"#E5ECF6\",\"angularaxis\":{\"gridcolor\":\"white\",\"linecolor\":\"white\",\"ticks\":\"\"},\"radialaxis\":{\"gridcolor\":\"white\",\"linecolor\":\"white\",\"ticks\":\"\"}},\"ternary\":{\"bgcolor\":\"#E5ECF6\",\"aaxis\":{\"gridcolor\":\"white\",\"linecolor\":\"white\",\"ticks\":\"\"},\"baxis\":{\"gridcolor\":\"white\",\"linecolor\":\"white\",\"ticks\":\"\"},\"caxis\":{\"gridcolor\":\"white\",\"linecolor\":\"white\",\"ticks\":\"\"}},\"coloraxis\":{\"colorbar\":{\"outlinewidth\":0,\"ticks\":\"\"}},\"colorscale\":{\"sequential\":[[0.0,\"#0d0887\"],[0.1111111111111111,\"#46039f\"],[0.2222222222222222,\"#7201a8\"],[0.3333333333333333,\"#9c179e\"],[0.4444444444444444,\"#bd3786\"],[0.5555555555555556,\"#d8576b\"],[0.6666666666666666,\"#ed7953\"],[0.7777777777777778,\"#fb9f3a\"],[0.8888888888888888,\"#fdca26\"],[1.0,\"#f0f921\"]],\"sequentialminus\":[[0.0,\"#0d0887\"],[0.1111111111111111,\"#46039f\"],[0.2222222222222222,\"#7201a8\"],[0.3333333333333333,\"#9c179e\"],[0.4444444444444444,\"#bd3786\"],[0.5555555555555556,\"#d8576b\"],[0.6666666666666666,\"#ed7953\"],[0.7777777777777778,\"#fb9f3a\"],[0.8888888888888888,\"#fdca26\"],[1.0,\"#f0f921\"]],\"diverging\":[[0,\"#8e0152\"],[0.1,\"#c51b7d\"],[0.2,\"#de77ae\"],[0.3,\"#f1b6da\"],[0.4,\"#fde0ef\"],[0.5,\"#f7f7f7\"],[0.6,\"#e6f5d0\"],[0.7,\"#b8e186\"],[0.8,\"#7fbc41\"],[0.9,\"#4d9221\"],[1,\"#276419\"]]},\"xaxis\":{\"gridcolor\":\"white\",\"linecolor\":\"white\",\"ticks\":\"\",\"title\":{\"standoff\":15},\"zerolinecolor\":\"white\",\"automargin\":true,\"zerolinewidth\":2},\"yaxis\":{\"gridcolor\":\"white\",\"linecolor\":\"white\",\"ticks\":\"\",\"title\":{\"standoff\":15},\"zerolinecolor\":\"white\",\"automargin\":true,\"zerolinewidth\":2},\"scene\":{\"xaxis\":{\"backgroundcolor\":\"#E5ECF6\",\"gridcolor\":\"white\",\"linecolor\":\"white\",\"showbackground\":true,\"ticks\":\"\",\"zerolinecolor\":\"white\",\"gridwidth\":2},\"yaxis\":{\"backgroundcolor\":\"#E5ECF6\",\"gridcolor\":\"white\",\"linecolor\":\"white\",\"showbackground\":true,\"ticks\":\"\",\"zerolinecolor\":\"white\",\"gridwidth\":2},\"zaxis\":{\"backgroundcolor\":\"#E5ECF6\",\"gridcolor\":\"white\",\"linecolor\":\"white\",\"showbackground\":true,\"ticks\":\"\",\"zerolinecolor\":\"white\",\"gridwidth\":2}},\"shapedefaults\":{\"line\":{\"color\":\"#2a3f5f\"}},\"annotationdefaults\":{\"arrowcolor\":\"#2a3f5f\",\"arrowhead\":0,\"arrowwidth\":1},\"geo\":{\"bgcolor\":\"white\",\"landcolor\":\"#E5ECF6\",\"subunitcolor\":\"white\",\"showland\":true,\"showlakes\":true,\"lakecolor\":\"white\"},\"title\":{\"x\":0.05},\"mapbox\":{\"style\":\"light\"}}},\"font\":{\"family\":\"Courier New\"},\"height\":280,\"width\":1000,\"yaxis\":{\"autorange\":\"reversed\"}},                        {\"responsive\": true}                    ).then(function(){\n",
              "                            \n",
              "var gd = document.getElementById('4bbb3a07-91fc-4fa7-9c0a-ede2c9e406ce');\n",
              "var x = new MutationObserver(function (mutations, observer) {{\n",
              "        var display = window.getComputedStyle(gd).display;\n",
              "        if (!display || display === 'none') {{\n",
              "            console.log([gd, 'removed!']);\n",
              "            Plotly.purge(gd);\n",
              "            observer.disconnect();\n",
              "        }}\n",
              "}});\n",
              "\n",
              "// Listen for the removal of the full notebook cells\n",
              "var notebookContainer = gd.closest('#notebook-container');\n",
              "if (notebookContainer) {{\n",
              "    x.observe(notebookContainer, {childList: true});\n",
              "}}\n",
              "\n",
              "// Listen for the clearing of the current output cell\n",
              "var outputEl = gd.closest('.output');\n",
              "if (outputEl) {{\n",
              "    x.observe(outputEl, {childList: true});\n",
              "}}\n",
              "\n",
              "                        })                };                            </script>        </div>\n",
              "</body>\n",
              "</html>"
            ]
          },
          "metadata": {},
          "output_type": "display_data"
        }
      ],
      "source": [
        "# create heatmap\n",
        "fig = go.Figure(data=go.Heatmap(\n",
        "                z=a, x0=0, dx=1,\n",
        "                y=labels, zmin=0, zmax=1,\n",
        "                customdata=labels_individual,\n",
        "                hovertemplate='%{customdata} <br><b>Score:%{z:.3f}<extra></extra>',\n",
        "                colorscale=\"burg\"))\n",
        "fig.update_layout({\"height\":height*28, \"width\":1000, \"font\":{\"family\":\"Courier New\"}})\n",
        "fig['layout']['yaxis']['autorange'] = \"reversed\"\n",
        "fig.show()"
      ]
    }
  ],
  "metadata": {
    "colab": {
      "provenance": []
    },
    "kernelspec": {
      "display_name": "Python 3",
      "language": "python",
      "name": "python3"
    },
    "language_info": {
      "codemirror_mode": {
        "name": "ipython",
        "version": 3
      },
      "file_extension": ".py",
      "mimetype": "text/x-python",
      "name": "python",
      "nbconvert_exporter": "python",
      "pygments_lexer": "ipython3",
      "version": "3.7.12"
    },
    "papermill": {
      "default_parameters": {},
      "duration": 19.478607,
      "end_time": "2022-02-27T06:30:29.388646",
      "environment_variables": {},
      "exception": null,
      "input_path": "__notebook__.ipynb",
      "output_path": "__notebook__.ipynb",
      "parameters": {},
      "start_time": "2022-02-27T06:30:09.910039",
      "version": "2.3.3"
    }
  },
  "nbformat": 4,
  "nbformat_minor": 5
}
